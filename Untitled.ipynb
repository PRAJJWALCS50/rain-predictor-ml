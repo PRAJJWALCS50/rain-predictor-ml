{
 "cells": [
  {
   "cell_type": "code",
   "execution_count": 1,
   "id": "d7d7b7bd-9df5-4aef-b89d-da811fc738d5",
   "metadata": {},
   "outputs": [
    {
     "name": "stderr",
     "output_type": "stream",
     "text": [
      "WARNING:absl:Compiled the loaded model, but the compiled metrics have yet to be built. `model.compile_metrics` will be empty until you train or evaluate the model.\n"
     ]
    }
   ],
   "source": [
    "from tensorflow.keras.models import load_model\n",
    "\n",
    "model = load_model(\"../model/cloud_rain_classifier.h5\")  # Use .keras if saved as keras\n"
   ]
  },
  {
   "cell_type": "code",
   "execution_count": 2,
   "id": "72ad6a5c-7b90-46e8-8122-cd651e395640",
   "metadata": {},
   "outputs": [],
   "source": [
    "class_names = ['Clear', 'Heavy_Rain', 'Light_Cloud', 'Moderate_Rain']\n"
   ]
  },
  {
   "cell_type": "code",
   "execution_count": 8,
   "id": "eed0930a-5828-4a59-a991-4b15a3490978",
   "metadata": {},
   "outputs": [],
   "source": [
    "from tensorflow.keras.preprocessing import image\n",
    "import numpy as np\n",
    "\n",
    "def predict_weather(img_path, model, class_names):\n",
    "    img = image.load_img(img_path, target_size=(IMG_SIZE, IMG_SIZE), color_mode='rgb')  # ✅ Force RGB\n",
    "    img_array = image.img_to_array(img)\n",
    "    img_array = np.expand_dims(img_array, axis=0)\n",
    "    img_array /= 255.0\n",
    "\n",
    "    prediction = model.predict(img_array)\n",
    "    predicted_class = class_names[np.argmax(prediction)]\n",
    "\n",
    "    print(f\"🌦️ Predicted Weather: {predicted_class}\")\n"
   ]
  },
  {
   "cell_type": "code",
   "execution_count": 11,
   "id": "b4b85d99-3845-4ef1-91b2-aea7b3af3bee",
   "metadata": {},
   "outputs": [
    {
     "name": "stdout",
     "output_type": "stream",
     "text": [
      "\u001b[1m1/1\u001b[0m \u001b[32m━━━━━━━━━━━━━━━━━━━━\u001b[0m\u001b[37m\u001b[0m \u001b[1m1s\u001b[0m 1s/step\n",
      "🌦️ Predicted Weather: Light_Cloud\n"
     ]
    }
   ],
   "source": [
    "IMG_SIZE = 224\n",
    "\n",
    "predict_weather(\n",
    "    r\"C:\\Users\\prajj\\rain prediction\\data\\Light_Cloud\\light_cloud_1.jpg\",\n",
    "    model,\n",
    "    class_names\n",
    ")\n"
   ]
  },
  {
   "cell_type": "code",
   "execution_count": 12,
   "id": "36f1b681-bad8-480d-8fcd-64d9e6c58664",
   "metadata": {},
   "outputs": [
    {
     "name": "stdout",
     "output_type": "stream",
     "text": [
      "Collecting gradio\n",
      "  Downloading gradio-5.35.0-py3-none-any.whl.metadata (16 kB)\n",
      "Collecting aiofiles<25.0,>=22.0 (from gradio)\n",
      "  Downloading aiofiles-24.1.0-py3-none-any.whl.metadata (10 kB)\n",
      "Requirement already satisfied: anyio<5.0,>=3.0 in c:\\users\\prajj\\anaconda3\\lib\\site-packages (from gradio) (4.2.0)\n",
      "Collecting fastapi<1.0,>=0.115.2 (from gradio)\n",
      "  Downloading fastapi-0.116.0-py3-none-any.whl.metadata (28 kB)\n",
      "Collecting ffmpy (from gradio)\n",
      "  Downloading ffmpy-0.6.0-py3-none-any.whl.metadata (2.9 kB)\n",
      "Collecting gradio-client==1.10.4 (from gradio)\n",
      "  Downloading gradio_client-1.10.4-py3-none-any.whl.metadata (7.1 kB)\n",
      "Collecting groovy~=0.1 (from gradio)\n",
      "  Downloading groovy-0.1.2-py3-none-any.whl.metadata (6.1 kB)\n",
      "Requirement already satisfied: httpx>=0.24.1 in c:\\users\\prajj\\anaconda3\\lib\\site-packages (from gradio) (0.27.0)\n",
      "Collecting huggingface-hub>=0.28.1 (from gradio)\n",
      "  Downloading huggingface_hub-0.33.2-py3-none-any.whl.metadata (14 kB)\n",
      "Requirement already satisfied: jinja2<4.0 in c:\\users\\prajj\\anaconda3\\lib\\site-packages (from gradio) (3.1.4)\n",
      "Requirement already satisfied: markupsafe<4.0,>=2.0 in c:\\users\\prajj\\anaconda3\\lib\\site-packages (from gradio) (2.1.3)\n",
      "Requirement already satisfied: numpy<3.0,>=1.0 in c:\\users\\prajj\\anaconda3\\lib\\site-packages (from gradio) (1.26.4)\n",
      "Collecting orjson~=3.0 (from gradio)\n",
      "  Downloading orjson-3.10.18-cp312-cp312-win_amd64.whl.metadata (43 kB)\n",
      "Requirement already satisfied: packaging in c:\\users\\prajj\\anaconda3\\lib\\site-packages (from gradio) (24.1)\n",
      "Requirement already satisfied: pandas<3.0,>=1.0 in c:\\users\\prajj\\anaconda3\\lib\\site-packages (from gradio) (2.2.2)\n",
      "Requirement already satisfied: pillow<12.0,>=8.0 in c:\\users\\prajj\\anaconda3\\lib\\site-packages (from gradio) (10.4.0)\n",
      "Requirement already satisfied: pydantic<2.12,>=2.0 in c:\\users\\prajj\\anaconda3\\lib\\site-packages (from gradio) (2.8.2)\n",
      "Collecting pydub (from gradio)\n",
      "  Downloading pydub-0.25.1-py2.py3-none-any.whl.metadata (1.4 kB)\n",
      "Collecting python-multipart>=0.0.18 (from gradio)\n",
      "  Downloading python_multipart-0.0.20-py3-none-any.whl.metadata (1.8 kB)\n",
      "Requirement already satisfied: pyyaml<7.0,>=5.0 in c:\\users\\prajj\\anaconda3\\lib\\site-packages (from gradio) (6.0.1)\n",
      "Collecting ruff>=0.9.3 (from gradio)\n",
      "  Downloading ruff-0.12.2-py3-none-win_amd64.whl.metadata (26 kB)\n",
      "Collecting safehttpx<0.2.0,>=0.1.6 (from gradio)\n",
      "  Downloading safehttpx-0.1.6-py3-none-any.whl.metadata (4.2 kB)\n",
      "Collecting semantic-version~=2.0 (from gradio)\n",
      "  Downloading semantic_version-2.10.0-py2.py3-none-any.whl.metadata (9.7 kB)\n",
      "Collecting starlette<1.0,>=0.40.0 (from gradio)\n",
      "  Downloading starlette-0.47.1-py3-none-any.whl.metadata (6.2 kB)\n",
      "Collecting tomlkit<0.14.0,>=0.12.0 (from gradio)\n",
      "  Downloading tomlkit-0.13.3-py3-none-any.whl.metadata (2.8 kB)\n",
      "Collecting typer<1.0,>=0.12 (from gradio)\n",
      "  Downloading typer-0.16.0-py3-none-any.whl.metadata (15 kB)\n",
      "Requirement already satisfied: typing-extensions~=4.0 in c:\\users\\prajj\\anaconda3\\lib\\site-packages (from gradio) (4.11.0)\n",
      "Collecting uvicorn>=0.14.0 (from gradio)\n",
      "  Downloading uvicorn-0.35.0-py3-none-any.whl.metadata (6.5 kB)\n",
      "Requirement already satisfied: fsspec in c:\\users\\prajj\\anaconda3\\lib\\site-packages (from gradio-client==1.10.4->gradio) (2024.6.1)\n",
      "Collecting websockets<16.0,>=10.0 (from gradio-client==1.10.4->gradio)\n",
      "  Downloading websockets-15.0.1-cp312-cp312-win_amd64.whl.metadata (7.0 kB)\n",
      "Requirement already satisfied: idna>=2.8 in c:\\users\\prajj\\anaconda3\\lib\\site-packages (from anyio<5.0,>=3.0->gradio) (3.7)\n",
      "Requirement already satisfied: sniffio>=1.1 in c:\\users\\prajj\\anaconda3\\lib\\site-packages (from anyio<5.0,>=3.0->gradio) (1.3.0)\n",
      "Collecting starlette<1.0,>=0.40.0 (from gradio)\n",
      "  Downloading starlette-0.46.2-py3-none-any.whl.metadata (6.2 kB)\n",
      "Requirement already satisfied: certifi in c:\\users\\prajj\\anaconda3\\lib\\site-packages (from httpx>=0.24.1->gradio) (2025.4.26)\n",
      "Requirement already satisfied: httpcore==1.* in c:\\users\\prajj\\anaconda3\\lib\\site-packages (from httpx>=0.24.1->gradio) (1.0.2)\n",
      "Requirement already satisfied: h11<0.15,>=0.13 in c:\\users\\prajj\\anaconda3\\lib\\site-packages (from httpcore==1.*->httpx>=0.24.1->gradio) (0.14.0)\n",
      "Requirement already satisfied: filelock in c:\\users\\prajj\\anaconda3\\lib\\site-packages (from huggingface-hub>=0.28.1->gradio) (3.13.1)\n",
      "Requirement already satisfied: requests in c:\\users\\prajj\\anaconda3\\lib\\site-packages (from huggingface-hub>=0.28.1->gradio) (2.32.3)\n",
      "Requirement already satisfied: tqdm>=4.42.1 in c:\\users\\prajj\\anaconda3\\lib\\site-packages (from huggingface-hub>=0.28.1->gradio) (4.66.5)\n",
      "Requirement already satisfied: python-dateutil>=2.8.2 in c:\\users\\prajj\\anaconda3\\lib\\site-packages (from pandas<3.0,>=1.0->gradio) (2.9.0.post0)\n",
      "Requirement already satisfied: pytz>=2020.1 in c:\\users\\prajj\\anaconda3\\lib\\site-packages (from pandas<3.0,>=1.0->gradio) (2024.1)\n",
      "Requirement already satisfied: tzdata>=2022.7 in c:\\users\\prajj\\anaconda3\\lib\\site-packages (from pandas<3.0,>=1.0->gradio) (2023.3)\n",
      "Requirement already satisfied: annotated-types>=0.4.0 in c:\\users\\prajj\\anaconda3\\lib\\site-packages (from pydantic<2.12,>=2.0->gradio) (0.6.0)\n",
      "Requirement already satisfied: pydantic-core==2.20.1 in c:\\users\\prajj\\anaconda3\\lib\\site-packages (from pydantic<2.12,>=2.0->gradio) (2.20.1)\n",
      "Requirement already satisfied: click>=8.0.0 in c:\\users\\prajj\\anaconda3\\lib\\site-packages (from typer<1.0,>=0.12->gradio) (8.1.7)\n",
      "Requirement already satisfied: shellingham>=1.3.0 in c:\\users\\prajj\\anaconda3\\lib\\site-packages (from typer<1.0,>=0.12->gradio) (1.5.0)\n",
      "Requirement already satisfied: rich>=10.11.0 in c:\\users\\prajj\\anaconda3\\lib\\site-packages (from typer<1.0,>=0.12->gradio) (13.7.1)\n",
      "Requirement already satisfied: colorama in c:\\users\\prajj\\anaconda3\\lib\\site-packages (from click>=8.0.0->typer<1.0,>=0.12->gradio) (0.4.6)\n",
      "Requirement already satisfied: six>=1.5 in c:\\users\\prajj\\anaconda3\\lib\\site-packages (from python-dateutil>=2.8.2->pandas<3.0,>=1.0->gradio) (1.16.0)\n",
      "Requirement already satisfied: markdown-it-py>=2.2.0 in c:\\users\\prajj\\anaconda3\\lib\\site-packages (from rich>=10.11.0->typer<1.0,>=0.12->gradio) (2.2.0)\n",
      "Requirement already satisfied: pygments<3.0.0,>=2.13.0 in c:\\users\\prajj\\anaconda3\\lib\\site-packages (from rich>=10.11.0->typer<1.0,>=0.12->gradio) (2.15.1)\n",
      "Requirement already satisfied: charset-normalizer<4,>=2 in c:\\users\\prajj\\anaconda3\\lib\\site-packages (from requests->huggingface-hub>=0.28.1->gradio) (3.3.2)\n",
      "Requirement already satisfied: urllib3<3,>=1.21.1 in c:\\users\\prajj\\anaconda3\\lib\\site-packages (from requests->huggingface-hub>=0.28.1->gradio) (2.2.3)\n",
      "Requirement already satisfied: mdurl~=0.1 in c:\\users\\prajj\\anaconda3\\lib\\site-packages (from markdown-it-py>=2.2.0->rich>=10.11.0->typer<1.0,>=0.12->gradio) (0.1.0)\n",
      "Downloading gradio-5.35.0-py3-none-any.whl (54.3 MB)\n",
      "   ---------------------------------------- 0.0/54.3 MB ? eta -:--:--\n",
      "    --------------------------------------- 1.0/54.3 MB 7.1 MB/s eta 0:00:08\n",
      "   - -------------------------------------- 1.6/54.3 MB 3.6 MB/s eta 0:00:15\n",
      "   - -------------------------------------- 2.6/54.3 MB 4.6 MB/s eta 0:00:12\n",
      "   -- ------------------------------------- 3.7/54.3 MB 4.3 MB/s eta 0:00:12\n",
      "   --- ------------------------------------ 4.5/54.3 MB 4.2 MB/s eta 0:00:12\n",
      "   --- ------------------------------------ 5.2/54.3 MB 4.1 MB/s eta 0:00:12\n",
      "   ---- ----------------------------------- 6.0/54.3 MB 4.1 MB/s eta 0:00:12\n",
      "   ----- ---------------------------------- 6.8/54.3 MB 4.1 MB/s eta 0:00:12\n",
      "   ----- ---------------------------------- 7.3/54.3 MB 3.9 MB/s eta 0:00:13\n",
      "   ------ --------------------------------- 8.4/54.3 MB 4.1 MB/s eta 0:00:12\n",
      "   ------ --------------------------------- 9.2/54.3 MB 4.0 MB/s eta 0:00:12\n",
      "   ------- -------------------------------- 10.0/54.3 MB 4.0 MB/s eta 0:00:12\n",
      "   -------- ------------------------------- 11.0/54.3 MB 4.0 MB/s eta 0:00:11\n",
      "   -------- ------------------------------- 11.8/54.3 MB 4.0 MB/s eta 0:00:11\n",
      "   --------- ------------------------------ 12.6/54.3 MB 4.0 MB/s eta 0:00:11\n",
      "   --------- ------------------------------ 13.4/54.3 MB 4.0 MB/s eta 0:00:11\n",
      "   ---------- ----------------------------- 14.2/54.3 MB 4.0 MB/s eta 0:00:11\n",
      "   ----------- ---------------------------- 14.9/54.3 MB 4.0 MB/s eta 0:00:10\n",
      "   ----------- ---------------------------- 15.7/54.3 MB 4.0 MB/s eta 0:00:10\n",
      "   ------------ --------------------------- 16.8/54.3 MB 4.0 MB/s eta 0:00:10\n",
      "   ------------ --------------------------- 17.6/54.3 MB 4.0 MB/s eta 0:00:10\n",
      "   ------------- -------------------------- 18.4/54.3 MB 4.0 MB/s eta 0:00:10\n",
      "   -------------- ------------------------- 19.1/54.3 MB 4.0 MB/s eta 0:00:09\n",
      "   -------------- ------------------------- 19.9/54.3 MB 3.9 MB/s eta 0:00:09\n",
      "   --------------- ------------------------ 20.7/54.3 MB 3.9 MB/s eta 0:00:09\n",
      "   ---------------- ----------------------- 21.8/54.3 MB 3.9 MB/s eta 0:00:09\n",
      "   ---------------- ----------------------- 22.5/54.3 MB 3.9 MB/s eta 0:00:09\n",
      "   ----------------- ---------------------- 23.3/54.3 MB 3.9 MB/s eta 0:00:08\n",
      "   ----------------- ---------------------- 24.1/54.3 MB 3.9 MB/s eta 0:00:08\n",
      "   ------------------ --------------------- 24.9/54.3 MB 3.9 MB/s eta 0:00:08\n",
      "   ------------------ --------------------- 25.7/54.3 MB 3.9 MB/s eta 0:00:08\n",
      "   ------------------- -------------------- 26.5/54.3 MB 3.9 MB/s eta 0:00:08\n",
      "   -------------------- ------------------- 27.5/54.3 MB 3.9 MB/s eta 0:00:07\n",
      "   -------------------- ------------------- 28.3/54.3 MB 3.9 MB/s eta 0:00:07\n",
      "   --------------------- ------------------ 29.1/54.3 MB 3.9 MB/s eta 0:00:07\n",
      "   ---------------------- ----------------- 29.9/54.3 MB 3.9 MB/s eta 0:00:07\n",
      "   ---------------------- ----------------- 30.7/54.3 MB 3.9 MB/s eta 0:00:07\n",
      "   ----------------------- ---------------- 31.5/54.3 MB 3.9 MB/s eta 0:00:06\n",
      "   ----------------------- ---------------- 32.2/54.3 MB 3.9 MB/s eta 0:00:06\n",
      "   ------------------------ --------------- 33.0/54.3 MB 3.9 MB/s eta 0:00:06\n",
      "   ------------------------ --------------- 33.8/54.3 MB 3.9 MB/s eta 0:00:06\n",
      "   ------------------------- -------------- 34.6/54.3 MB 3.9 MB/s eta 0:00:06\n",
      "   -------------------------- ------------- 35.4/54.3 MB 3.9 MB/s eta 0:00:05\n",
      "   -------------------------- ------------- 36.2/54.3 MB 3.9 MB/s eta 0:00:05\n",
      "   --------------------------- ------------ 37.0/54.3 MB 3.9 MB/s eta 0:00:05\n",
      "   --------------------------- ------------ 37.7/54.3 MB 3.9 MB/s eta 0:00:05\n",
      "   ---------------------------- ----------- 38.5/54.3 MB 3.9 MB/s eta 0:00:05\n",
      "   ---------------------------- ----------- 39.3/54.3 MB 3.9 MB/s eta 0:00:04\n",
      "   ----------------------------- ---------- 40.1/54.3 MB 3.9 MB/s eta 0:00:04\n",
      "   ------------------------------ --------- 41.2/54.3 MB 3.9 MB/s eta 0:00:04\n",
      "   ------------------------------ --------- 41.9/54.3 MB 3.9 MB/s eta 0:00:04\n",
      "   ------------------------------- -------- 42.7/54.3 MB 3.9 MB/s eta 0:00:03\n",
      "   -------------------------------- ------- 43.5/54.3 MB 3.9 MB/s eta 0:00:03\n",
      "   -------------------------------- ------- 44.3/54.3 MB 3.9 MB/s eta 0:00:03\n",
      "   --------------------------------- ------ 45.1/54.3 MB 3.9 MB/s eta 0:00:03\n",
      "   --------------------------------- ------ 45.9/54.3 MB 3.9 MB/s eta 0:00:03\n",
      "   ---------------------------------- ----- 46.9/54.3 MB 3.9 MB/s eta 0:00:02\n",
      "   ----------------------------------- ---- 47.7/54.3 MB 3.9 MB/s eta 0:00:02\n",
      "   ----------------------------------- ---- 48.5/54.3 MB 3.9 MB/s eta 0:00:02\n",
      "   ------------------------------------ --- 49.3/54.3 MB 3.9 MB/s eta 0:00:02\n",
      "   ------------------------------------ --- 50.1/54.3 MB 3.9 MB/s eta 0:00:02\n",
      "   ------------------------------------- -- 50.9/54.3 MB 3.9 MB/s eta 0:00:01\n",
      "   -------------------------------------- - 51.9/54.3 MB 3.9 MB/s eta 0:00:01\n",
      "   -------------------------------------- - 52.7/54.3 MB 3.9 MB/s eta 0:00:01\n",
      "   ---------------------------------------  53.5/54.3 MB 3.9 MB/s eta 0:00:01\n",
      "   ---------------------------------------  54.3/54.3 MB 3.9 MB/s eta 0:00:01\n",
      "   ---------------------------------------- 54.3/54.3 MB 3.8 MB/s eta 0:00:00\n",
      "Downloading gradio_client-1.10.4-py3-none-any.whl (323 kB)\n",
      "Downloading aiofiles-24.1.0-py3-none-any.whl (15 kB)\n",
      "Downloading fastapi-0.116.0-py3-none-any.whl (95 kB)\n",
      "Downloading groovy-0.1.2-py3-none-any.whl (14 kB)\n",
      "Downloading huggingface_hub-0.33.2-py3-none-any.whl (515 kB)\n",
      "Downloading orjson-3.10.18-cp312-cp312-win_amd64.whl (134 kB)\n",
      "Downloading python_multipart-0.0.20-py3-none-any.whl (24 kB)\n",
      "Downloading ruff-0.12.2-py3-none-win_amd64.whl (11.6 MB)\n",
      "   ---------------------------------------- 0.0/11.6 MB ? eta -:--:--\n",
      "   --- ------------------------------------ 1.0/11.6 MB 5.6 MB/s eta 0:00:02\n",
      "   ------ --------------------------------- 1.8/11.6 MB 4.4 MB/s eta 0:00:03\n",
      "   --------- ------------------------------ 2.6/11.6 MB 4.3 MB/s eta 0:00:03\n",
      "   ----------- ---------------------------- 3.4/11.6 MB 4.2 MB/s eta 0:00:02\n",
      "   --------------- ------------------------ 4.5/11.6 MB 4.1 MB/s eta 0:00:02\n",
      "   ------------------ --------------------- 5.2/11.6 MB 4.0 MB/s eta 0:00:02\n",
      "   -------------------- ------------------- 6.0/11.6 MB 4.0 MB/s eta 0:00:02\n",
      "   ----------------------- ---------------- 6.8/11.6 MB 4.0 MB/s eta 0:00:02\n",
      "   -------------------------- ------------- 7.6/11.6 MB 4.0 MB/s eta 0:00:02\n",
      "   ---------------------------- ----------- 8.4/11.6 MB 4.0 MB/s eta 0:00:01\n",
      "   ------------------------------- -------- 9.2/11.6 MB 4.0 MB/s eta 0:00:01\n",
      "   ---------------------------------- ----- 10.0/11.6 MB 4.0 MB/s eta 0:00:01\n",
      "   ------------------------------------ --- 10.7/11.6 MB 3.9 MB/s eta 0:00:01\n",
      "   ---------------------------------------  11.5/11.6 MB 3.9 MB/s eta 0:00:01\n",
      "   ---------------------------------------- 11.6/11.6 MB 3.9 MB/s eta 0:00:00\n",
      "Downloading safehttpx-0.1.6-py3-none-any.whl (8.7 kB)\n",
      "Downloading semantic_version-2.10.0-py2.py3-none-any.whl (15 kB)\n",
      "Downloading starlette-0.46.2-py3-none-any.whl (72 kB)\n",
      "Downloading tomlkit-0.13.3-py3-none-any.whl (38 kB)\n",
      "Downloading typer-0.16.0-py3-none-any.whl (46 kB)\n",
      "Downloading uvicorn-0.35.0-py3-none-any.whl (66 kB)\n",
      "Downloading ffmpy-0.6.0-py3-none-any.whl (5.5 kB)\n",
      "Downloading pydub-0.25.1-py2.py3-none-any.whl (32 kB)\n",
      "Downloading websockets-15.0.1-cp312-cp312-win_amd64.whl (176 kB)\n",
      "Installing collected packages: pydub, websockets, tomlkit, semantic-version, ruff, python-multipart, orjson, groovy, ffmpy, aiofiles, uvicorn, starlette, huggingface-hub, typer, safehttpx, gradio-client, fastapi, gradio\n",
      "  Attempting uninstall: tomlkit\n",
      "    Found existing installation: tomlkit 0.11.1\n",
      "    Uninstalling tomlkit-0.11.1:\n",
      "      Successfully uninstalled tomlkit-0.11.1\n",
      "  Attempting uninstall: typer\n",
      "    Found existing installation: typer 0.9.0\n",
      "    Uninstalling typer-0.9.0:\n",
      "      Successfully uninstalled typer-0.9.0\n",
      "Successfully installed aiofiles-24.1.0 fastapi-0.116.0 ffmpy-0.6.0 gradio-5.35.0 gradio-client-1.10.4 groovy-0.1.2 huggingface-hub-0.33.2 orjson-3.10.18 pydub-0.25.1 python-multipart-0.0.20 ruff-0.12.2 safehttpx-0.1.6 semantic-version-2.10.0 starlette-0.46.2 tomlkit-0.13.3 typer-0.16.0 uvicorn-0.35.0 websockets-15.0.1\n"
     ]
    }
   ],
   "source": [
    "!pip install gradio\n"
   ]
  },
  {
   "cell_type": "code",
   "execution_count": 13,
   "id": "4b74af1b-a75f-4c92-905d-6194044f1fcd",
   "metadata": {},
   "outputs": [
    {
     "name": "stdout",
     "output_type": "stream",
     "text": [
      "* Running on local URL:  http://127.0.0.1:7860\n",
      "* To create a public link, set `share=True` in `launch()`.\n"
     ]
    },
    {
     "data": {
      "text/html": [
       "<div><iframe src=\"http://127.0.0.1:7860/\" width=\"100%\" height=\"500\" allow=\"autoplay; camera; microphone; clipboard-read; clipboard-write;\" frameborder=\"0\" allowfullscreen></iframe></div>"
      ],
      "text/plain": [
       "<IPython.core.display.HTML object>"
      ]
     },
     "metadata": {},
     "output_type": "display_data"
    },
    {
     "data": {
      "text/plain": []
     },
     "execution_count": 13,
     "metadata": {},
     "output_type": "execute_result"
    }
   ],
   "source": [
    "import gradio as gr\n",
    "from PIL import Image\n",
    "\n",
    "def gradio_predict(img):\n",
    "    img = img.resize((IMG_SIZE, IMG_SIZE))\n",
    "    img_array = np.array(img) / 255.0\n",
    "    img_array = np.expand_dims(img_array, axis=0)\n",
    "\n",
    "    prediction = model.predict(img_array)\n",
    "    predicted_class = class_names[np.argmax(prediction)]\n",
    "    return predicted_class\n",
    "\n",
    "gr.Interface(\n",
    "    fn=gradio_predict,\n",
    "    inputs=gr.Image(type=\"pil\"),\n",
    "    outputs=\"text\",\n",
    "    title=\"🌥️ Cloud & Rain Classifier\",\n",
    "    description=\"Upload a sky image. The model will predict weather category (Clear, Light_Cloud, Moderate_Rain, Heavy_Rain).\"\n",
    ").launch()\n"
   ]
  },
  {
   "cell_type": "code",
   "execution_count": null,
   "id": "b4c49fe8-5fe1-4dc2-a4b0-57a19fd1c0d8",
   "metadata": {},
   "outputs": [],
   "source": []
  }
 ],
 "metadata": {
  "kernelspec": {
   "display_name": "Python [conda env:base] *",
   "language": "python",
   "name": "conda-base-py"
  },
  "language_info": {
   "codemirror_mode": {
    "name": "ipython",
    "version": 3
   },
   "file_extension": ".py",
   "mimetype": "text/x-python",
   "name": "python",
   "nbconvert_exporter": "python",
   "pygments_lexer": "ipython3",
   "version": "3.12.7"
  }
 },
 "nbformat": 4,
 "nbformat_minor": 5
}
